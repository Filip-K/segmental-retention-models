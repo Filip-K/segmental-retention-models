{
 "cells": [
  {
   "cell_type": "markdown",
   "metadata": {},
   "source": [
    "# Segmental retention models for representing the hydraulic properties of evolving structured soils"
   ]
  },
  {
   "cell_type": "markdown",
   "metadata": {},
   "source": [
    "This notebook recreates Figs. 1 and 2.\n"
   ]
  },
  {
   "cell_type": "code",
   "execution_count": null,
   "metadata": {},
   "outputs": [],
   "source": [
    "import segmental_models as svg\n",
    "import vangenuchten as vg\n",
    "\n",
    "import numpy as np\n",
    "from scipy.constants import micro, milli, nano\n",
    "import matplotlib.pyplot as plt"
   ]
  },
  {
   "cell_type": "code",
   "execution_count": null,
   "metadata": {},
   "outputs": [],
   "source": [
    "# Constant A such that psi [length] = - A / r, where r is pore radius\n",
    "A = 1.49e-5  # m^2 (square meters), see https://www.wolframalpha.com/input?i=2+%28water+surface+tension%29+%2F+%28earth+gravity%29+%2F+%28water+density%29\n",
    "\n",
    "threshold_h = A / np.array([50 * nano, 1 * micro, 20 * micro, 0.5 * milli])"
   ]
  },
  {
   "cell_type": "markdown",
   "metadata": {},
   "source": [
    "Global settings for plots"
   ]
  },
  {
   "cell_type": "code",
   "execution_count": null,
   "metadata": {},
   "outputs": [],
   "source": [
    "plt.rcParams['figure.figsize'] = (4.5, 4.5 / 1.4)\n",
    "\n",
    "colors = plt.rcParams['axes.prop_cycle'].by_key()['color']\n",
    "\n",
    "h = np.logspace(-2.5, 3.5)"
   ]
  },
  {
   "cell_type": "markdown",
   "metadata": {},
   "source": [
    "## Smooth step"
   ]
  },
  {
   "cell_type": "code",
   "execution_count": null,
   "metadata": {},
   "outputs": [],
   "source": [
    "x = np.linspace(0, 1)\n",
    "\n",
    "plt.plot(x, svg.smoothceiling(x), label='smooth ceiling', color=colors[4])\n",
    "plt.plot(x, svg.smoothfloor(x), label='smooth floor', color=colors[0])\n",
    "# plt.plot(x, svg.smoothstep(x), '--', label= 'smooth step', color= colors[1])\n",
    "plt.xlabel('$x$')\n",
    "plt.ylabel('$s(x)$')\n",
    "plt.legend()\n",
    "\n",
    "plt.tight_layout()"
   ]
  },
  {
   "cell_type": "markdown",
   "metadata": {},
   "source": [
    "## Clipping functions"
   ]
  },
  {
   "cell_type": "code",
   "execution_count": null,
   "metadata": {},
   "outputs": [],
   "source": [
    "plt.plot(h, h, 'k')\n",
    "for row in svg.clipping(h, threshold_h):\n",
    "    plt.plot(h, row, lw= 1.6, dashes= (10,1))\n",
    "\n",
    "plt.xscale('log')\n",
    "plt.yscale('log')\n",
    "plt.xlabel('pressure head $h$ [m]')\n",
    "plt.ylabel('pressure head $h$ [m]')\n",
    "\n",
    "ymin, ymax = plt.ylim()\n",
    "plt.vlines(threshold_h, ymin=ymin, ymax=ymax, colors='.8', linewidth= .5, zorder=-1)\n",
    "plt.ylim((ymin, ymax))\n",
    "\n",
    "plt.gca().invert_xaxis()\n",
    "plt.gca().invert_yaxis()\n",
    "\n",
    "plt.tight_layout()\n",
    "\n",
    "# Add minus signs to tick labels\n",
    "for ticks in (plt.xticks, plt.yticks):\n",
    "    ticklabels = ticks()[1][2:-2]\n",
    "    for Text in ticklabels:\n",
    "        Text.set_text(Text.get_text().replace('10','\\N{MINUS SIGN}10'))\n",
    "    ticks(ticks()[0][2:-2], ticklabels)\n",
    "\n",
    "plt.savefig('clipping_functions.pdf', bbox_inches=\"tight\", pad_inches=.01)"
   ]
  },
  {
   "cell_type": "markdown",
   "metadata": {},
   "source": [
    "## Retention components"
   ]
  },
  {
   "cell_type": "code",
   "execution_count": null,
   "metadata": {},
   "outputs": [],
   "source": [
    "soil = {'n': 1.41, 'a': 2.0, 'mcr': 0.067, 'mcs': 0.45}\n",
    "\n",
    "VG_mc = vg.mc(h, **soil)\n",
    "\n",
    "sVG_comp = svg.comps(h, threshold_h, **soil)\n",
    "sVG_mca = svg.mc(sVG_comp, threshold_h, **soil)[0]"
   ]
  },
  {
   "cell_type": "code",
   "execution_count": null,
   "metadata": {},
   "outputs": [],
   "source": [
    "plt.plot(h, VG_mc, 'k', label='original')\n",
    "\n",
    "for comp in sVG_mca:\n",
    "    plt.plot(h, comp, lw= 1.6, dashes= (10,1))\n",
    "\n",
    "plt.gca().add_line(\n",
    "    matplotlib.lines.Line2D(\n",
    "        [],\n",
    "        [],\n",
    "        color= '.65',\n",
    "        dashes= (6,1),\n",
    "        lw= 1.6,\n",
    "        label='pore-size class\\nsegments',\n",
    "    )\n",
    ")\n",
    "\n",
    "plt.plot(h, soil['mcr'] + sVG_mca.sum(axis=0), label='sum of segments', color=colors[6])\n",
    "\n",
    "_, _, ymin, ymax = plt.axis()\n",
    "plt.vlines(threshold_h, ymin=ymin, ymax=ymax, colors='.8', linewidth= .5, zorder=-1)\n",
    "\n",
    "plt.xscale('log')\n",
    "plt.xlabel('pressure head $h$ [m]')\n",
    "plt.ylabel(r'water content $\\theta$ [-]')\n",
    "plt.ylim((ymin, ymax))\n",
    "plt.legend()\n",
    "plt.gca().invert_xaxis()\n",
    "\n",
    "plt.tight_layout()\n",
    "\n",
    "# Add minus signs to tick labels\n",
    "ticklabels = plt.xticks()[1][2:-2]\n",
    "for Text in ticklabels:\n",
    "    Text.set_text(Text.get_text().replace('10','\\N{MINUS SIGN}10'))\n",
    "plt.xticks(plt.xticks()[0][2:-2], ticklabels);\n",
    "\n",
    "plt.savefig('Silt_Loam_retention_proper.pdf', bbox_inches=\"tight\", pad_inches=.01)"
   ]
  },
  {
   "cell_type": "code",
   "execution_count": null,
   "metadata": {},
   "outputs": [],
   "source": []
  }
 ],
 "metadata": {
  "kernelspec": {
   "display_name": "soilstruct",
   "language": "python",
   "name": "python3"
  },
  "language_info": {
   "codemirror_mode": {
    "name": "ipython",
    "version": 3
   },
   "file_extension": ".py",
   "mimetype": "text/x-python",
   "name": "python",
   "nbconvert_exporter": "python",
   "pygments_lexer": "ipython3",
   "version": "3.10.14"
  }
 },
 "nbformat": 4,
 "nbformat_minor": 2
}
