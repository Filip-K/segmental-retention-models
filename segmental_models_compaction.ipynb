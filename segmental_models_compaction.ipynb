{
 "cells": [
  {
   "cell_type": "markdown",
   "metadata": {},
   "source": [
    "# Segmental retention models for representing the hydraulic properties of evolving structured soils"
   ]
  },
  {
   "cell_type": "markdown",
   "metadata": {},
   "source": [
    "This notebook recreates Fig. 3."
   ]
  },
  {
   "cell_type": "code",
   "execution_count": null,
   "metadata": {},
   "outputs": [],
   "source": [
    "import segmental_models as svg\n",
    "import vangenuchten as vg\n",
    "import pandas as pd\n",
    "\n",
    "import numpy as np\n",
    "from scipy.constants import micro, milli, nano, centi\n",
    "import matplotlib.pyplot as plt\n",
    "from matplotlib.lines import Line2D"
   ]
  },
  {
   "cell_type": "code",
   "execution_count": null,
   "metadata": {},
   "outputs": [],
   "source": [
    "threshold_h = np.array([1, 0.3])\n",
    "\n",
    "posd_h = np.concatenate((threshold_h, [0]))"
   ]
  },
  {
   "cell_type": "markdown",
   "metadata": {},
   "source": [
    "Global settings for plots"
   ]
  },
  {
   "cell_type": "code",
   "execution_count": null,
   "metadata": {},
   "outputs": [],
   "source": [
    "colors = plt.rcParams['axes.prop_cycle'].by_key()['color']\n",
    "\n",
    "h = np.logspace(-2.5, 3.5)\n",
    "\n",
    "# This is the h over which conductivity will be integrated. It must be a larger range than what is plotted.\n",
    "# Specifically, the high end must be high enough so that dmc/dh goes pretty much to zero *for the (de)compaction that\n",
    "# you're making*. The low end should be the same as for h\n",
    "h_int = np.logspace(-2.5, 5)\n",
    "\n",
    "plotlim_h = np.flatnonzero(h_int > np.amax(h))[0]"
   ]
  },
  {
   "cell_type": "markdown",
   "metadata": {},
   "source": [
    "## Decompaction"
   ]
  },
  {
   "cell_type": "code",
   "execution_count": null,
   "metadata": {},
   "outputs": [],
   "source": [
    "soil = {'n': 1.42, 'a': 0.0054 / centi, 'mcr': 0.094, 'mcs': 0.418, 'Ks': 421.3 * milli / 60**2}\n",
    "\n",
    "M = soil['Ks'] / soil['a'] ** 2 / (soil['mcs'] - soil['mcr']) ** 2.5\n",
    "\n",
    "# Initial Van Genuchten retention and conductivity. Dimensions: [h]\n",
    "VG_mc = vg.mc(h, **soil)\n",
    "VG_K = (\n",
    "    soil['Ks'] * vg.Kr(vg.S(h_int[None, :], **soil), **soil)[0]\n",
    ")  # [0] removes the soil type dimension we're not using\n",
    "\n",
    "# Retention curve segments [soil type, class, h]\n",
    "sVG_comp = svg.comps(h, threshold_h, **soil)\n",
    "\n",
    "# Retention sub-curves [class, h]\n",
    "sVG_mc = svg.mc(sVG_comp, threshold_h, **soil)[0]  # [0] as above"
   ]
  },
  {
   "cell_type": "code",
   "execution_count": null,
   "metadata": {},
   "outputs": [],
   "source": [
    "posd = pd.read_csv('MJGCB2020_PoSD.csv', index_col=0, comment='#')\n",
    "\n",
    "posd['Micropores'] -= soil['mcr']\n",
    "posd = posd[['Micropores', 'Mesopores', 'Macropores']].to_numpy()\n",
    "\n",
    "# Weights or (de)compaction factors [year, component (micro, meso, macro)]\n",
    "w = posd / sVG_mc[None, ..., 0]  # sVG_mc[..., 0] are the initial saturated water contents of the segments"
   ]
  },
  {
   "cell_type": "code",
   "execution_count": null,
   "metadata": {},
   "outputs": [],
   "source": [
    "# (De)compacted retention curves [year, h]\n",
    "sVG_mc_decomp = (sVG_mc[None, ...] * w[..., None]).sum(axis=-2)"
   ]
  },
  {
   "cell_type": "code",
   "execution_count": null,
   "metadata": {},
   "outputs": [],
   "source": [
    "# (De)compacted conductivity curves [year, h]\n",
    "sVG_K_decomp = (svg.dmcdh_int(h_int, threshold_h, **soil)[None, ...] * w[..., None]).sum(axis=-2) ** 2\n",
    "\n",
    "sVG_K_decomp *= (\n",
    "    M\n",
    "    * (svg.mc(svg.comps(h_int[1:], threshold_h, **soil), threshold_h, **soil)[0, None, ...] * w[..., None]).sum(axis=-2)\n",
    "    ** 0.5\n",
    ")\n",
    "\n",
    "# The (0, None,) part of the slice of above doesn't do anything here, but it signifies an intent: The 0 removes the soil\n",
    "# type dimension we're not using (it has length 1), and None adds a year dimension we didn't have"
   ]
  },
  {
   "cell_type": "code",
   "execution_count": null,
   "metadata": {},
   "outputs": [],
   "source": [
    "fig, axes = plt.subplots(nrows=2, ncols=sVG_mc_decomp.shape[0], figsize=(11, 6.75), sharex=True, sharey='row')\n",
    "\n",
    "axes[0, 0].set_xscale('symlog', linthresh=0.01)\n",
    "axes[1, 0].set_yscale('log')\n",
    "\n",
    "for j, ax in enumerate(axes[0]):\n",
    "    ax.plot(h, VG_mc, 'k', label='original retention / conductivity')\n",
    "\n",
    "    if j < 2:\n",
    "        ax.plot(posd_h, soil['mcr'] + np.cumsum(posd[j]), 'o', color=colors[1], label='measured porosity', zorder=5)\n",
    "    else:\n",
    "        ax.plot(\n",
    "            posd_h,\n",
    "            soil['mcr'] + np.cumsum(posd[j]),\n",
    "            'o',\n",
    "            color=colors[1],\n",
    "            markerfacecolor='none',\n",
    "            markeredgewidth=1.5,\n",
    "            zorder=5,\n",
    "        )\n",
    "\n",
    "    ax.plot(h, soil['mcr'] + sVG_mc_decomp[j], color=colors[1], label='estimated ret. / cond.')\n",
    "    ax.grid(alpha=0.25, which= 'both')\n",
    "\n",
    "for j, ax in enumerate(axes[1]):\n",
    "    ax.plot(h_int[:plotlim_h], VG_K[:plotlim_h], 'k', label='original')\n",
    "    ax.plot(h_int[:plotlim_h], sVG_K_decomp[j, :plotlim_h], color=colors[1], label='estimated')\n",
    "    ax.grid(alpha=0.25, which= 'both')\n",
    "\n",
    "fig.supxlabel('pressure head $h$ [m]', y= .025)\n",
    "\n",
    "for axo, title in zip(axes[0], ['initial', 'compacted', 'after 1 year', 'after 2 years']):\n",
    "    axo.set_title(title)\n",
    "\n",
    "axes[0, 0].add_line(  # We will generate legend from the [0, 0] subplot, so we need to add an entry for empty circles,\n",
    "    #  which are not in that subplot\n",
    "    Line2D(\n",
    "        [],\n",
    "        [],\n",
    "        color=colors[1],\n",
    "        marker='o',\n",
    "        linestyle='None',\n",
    "        markerfacecolor='none',\n",
    "        markeredgewidth=1.5,\n",
    "        label='simulated porosity',\n",
    "    )\n",
    ")\n",
    "axes[0, 0].legend(loc='upper center', ncol=4, bbox_to_anchor=(2.1, -0.035))\n",
    "\n",
    "axes[0, 0].invert_xaxis()\n",
    "axes[0, 0].set_ylabel(r'water content $\\theta$ [-]')\n",
    "axes[1, 0].set_ylabel(r'hydr. conductivity $K$ [m/s]')\n",
    "\n",
    "plt.subplots_adjust(wspace=0.1, hspace=0.22)\n",
    "\n",
    "if 'xticklabels' in locals():\n",
    "    axes[1,0].set_xticks(xticks[::2], xticklabels[::2])\n",
    "\n",
    "    plt.savefig('MJGCB.pdf', bbox_inches=\"tight\", pad_inches=.01)"
   ]
  },
  {
   "cell_type": "code",
   "execution_count": null,
   "metadata": {},
   "outputs": [],
   "source": [
    "# Add minus signs to tick labels (replot after running this cell)\n",
    "xticklabels = axes[1,0].get_xticklabels()\n",
    "xticks = axes[1,0].get_xticks()\n",
    "\n",
    "for Text in xticklabels:\n",
    "    Text.set_text(Text.get_text().replace('10','\\N{MINUS SIGN}10'))"
   ]
  },
  {
   "cell_type": "code",
   "execution_count": null,
   "metadata": {},
   "outputs": [],
   "source": []
  }
 ],
 "metadata": {
  "kernelspec": {
   "display_name": "soilstruct",
   "language": "python",
   "name": "python3"
  },
  "language_info": {
   "codemirror_mode": {
    "name": "ipython",
    "version": 3
   },
   "file_extension": ".py",
   "mimetype": "text/x-python",
   "name": "python",
   "nbconvert_exporter": "python",
   "pygments_lexer": "ipython3",
   "version": "3.10.14"
  }
 },
 "nbformat": 4,
 "nbformat_minor": 2
}
