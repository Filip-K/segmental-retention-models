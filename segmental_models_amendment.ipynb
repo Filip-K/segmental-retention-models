{
 "cells": [
  {
   "cell_type": "markdown",
   "metadata": {},
   "source": [
    "# Segmental retention models for representing the hydraulic properties of evolving structured soils"
   ]
  },
  {
   "cell_type": "markdown",
   "metadata": {},
   "source": [
    "This notebook recreates Fig. 4."
   ]
  },
  {
   "cell_type": "code",
   "execution_count": null,
   "metadata": {},
   "outputs": [],
   "source": [
    "import segmental_models as svg\n",
    "import vangenuchten as vg\n",
    "import pandas as pd\n",
    "\n",
    "import numpy as np\n",
    "from scipy.constants import micro, milli, nano, centi\n",
    "import matplotlib.pyplot as plt"
   ]
  },
  {
   "cell_type": "code",
   "execution_count": null,
   "metadata": {},
   "outputs": [],
   "source": [
    "threshold_h = np.array([600 * centi, 0.3])\n",
    "\n",
    "posd_h = np.concatenate((threshold_h, [0]))"
   ]
  },
  {
   "cell_type": "markdown",
   "metadata": {},
   "source": [
    "Global settings for plots"
   ]
  },
  {
   "cell_type": "code",
   "execution_count": null,
   "metadata": {},
   "outputs": [],
   "source": [
    "colors = plt.rcParams['axes.prop_cycle'].by_key()['color']\n",
    "\n",
    "h = np.logspace(-2.5, 2)\n",
    "\n",
    "# This is the h over which conductivity will be integrated. It must be a larger range than what is plotted.\n",
    "# Specifically, the high end must be high enough so that dmc/dh goes pretty much to zero *for the (de)compaction that\n",
    "# you're making*. The low end should be the same as for h\n",
    "h_int = np.logspace(-2.5, 5)\n",
    "\n",
    "plotlim_h = np.flatnonzero(h_int > np.amax(h))[0]"
   ]
  },
  {
   "cell_type": "markdown",
   "metadata": {},
   "source": [
    "## Decompaction"
   ]
  },
  {
   "cell_type": "code",
   "execution_count": null,
   "metadata": {},
   "outputs": [],
   "source": [
    "soil = {'n': 1.073, 'a': 0.044 / centi, 'mcr': 0.0, 'mcs': 0.407, 'Ks': 14.064557351537498 * centi / 60 * 60 * 24}\n",
    "\n",
    "M = soil['Ks'] / soil['a'] ** 2 / (soil['mcs'] - soil['mcr']) ** 2.5\n",
    "\n",
    "# Initial Van Genuchten retention and conductivity. Dimensions: [h]\n",
    "VG_mc = vg.mc(h, **soil)\n",
    "VG_K = (\n",
    "    soil['Ks'] * vg.Kr(vg.S(h_int[None, :], **soil), **soil)[0]\n",
    ")  # [0] removes the soil type dimension we're not using\n",
    "\n",
    "# Retention curve segments [soil type, class, h]\n",
    "sVG_comp = svg.comps(h, threshold_h, **soil)\n",
    "\n",
    "# Retention sub-curves [class, h]\n",
    "sVG_mc = svg.mc(sVG_comp, threshold_h, **soil)[0]  # [0] as above"
   ]
  },
  {
   "cell_type": "code",
   "execution_count": null,
   "metadata": {},
   "outputs": [],
   "source": [
    "pd.read_csv('MJB2020_PoSD.csv', index_col=[0, 1], comment='#')"
   ]
  },
  {
   "cell_type": "code",
   "execution_count": null,
   "metadata": {},
   "outputs": [],
   "source": [
    "posd_rel = (\n",
    "    pd.read_csv('MJB2020_PoSD.csv', index_col=[0, 1], comment='#')\n",
    "    .drop(1988)\n",
    "    .groupby('treatment', group_keys=False)\n",
    "    .apply(lambda da: da / da.loc[1956])\n",
    ")\n",
    "\n",
    "posd_rel['phi_mac'] = 1.0  # Macroporosity is constant in the model of Meurer, Chenu, et al. (2020)\n",
    "\n",
    "posd_rel"
   ]
  },
  {
   "cell_type": "code",
   "execution_count": null,
   "metadata": {},
   "outputs": [],
   "source": [
    "posd = sVG_mc[:, 0].copy()  # Initial porosities (micro, meso, macro)\n",
    "posd[1] += posd[0]  # Initial porosities (micro, matrix i.e. micro + meso, macro)\n",
    "\n",
    "# Apply relative porosity changes from Meurer, Chenu, et al. (2020) to our initial pore size distribution\n",
    "posd = posd * np.vstack(\n",
    "    (posd_rel.xs('bare', level='treatment').to_numpy(), posd_rel.xs('manure', level='treatment').to_numpy())\n",
    ")  #  Bare fallow treatment (all years) first, followed by manure (all years)\n",
    "\n",
    "posd[:, 1] -= posd[:, 0]  # Transform back from (micro, matrix, macro) to (micro, meso, macro)\n",
    "\n",
    "# Weights or (de)compaction factors [year, component (micro, meso, macro)]\n",
    "w = posd / posd[0]"
   ]
  },
  {
   "cell_type": "code",
   "execution_count": null,
   "metadata": {},
   "outputs": [],
   "source": [
    "# (De)compacted retention curves [year, h]\n",
    "sVG_mc_decomp = (sVG_mc[None, ...] * w[..., None]).sum(axis=-2)"
   ]
  },
  {
   "cell_type": "code",
   "execution_count": null,
   "metadata": {},
   "outputs": [],
   "source": [
    "# (De)compacted conductivity curves [year, h]\n",
    "sVG_K_decomp = (svg.dmcdh_int(h_int, threshold_h, **soil)[None, ...] * w[..., None]).sum(axis=-2) ** 2\n",
    "\n",
    "sVG_K_decomp *= (\n",
    "    M\n",
    "    * (svg.mc(svg.comps(h_int[1:], threshold_h, **soil), threshold_h, **soil)[0, None, ...] * w[..., None]).sum(axis=-2)\n",
    "    ** 0.5\n",
    ")\n",
    "\n",
    "# The (0, None,) part of the slice of above doesn't do anything here, but it signifies an intent: The 0 removes the soil\n",
    "# type dimension we're not using (it has length 1), and None adds a year dimension we didn't have"
   ]
  },
  {
   "cell_type": "code",
   "execution_count": null,
   "metadata": {},
   "outputs": [],
   "source": [
    "fig, axes = plt.subplots(nrows=2, ncols=sVG_mc_decomp.shape[0] // 2, figsize=(11, 6.75), sharex=True, sharey='row')\n",
    "\n",
    "axes[0, 0].set_xscale('log')\n",
    "axes[1, 0].set_yscale('log')\n",
    "\n",
    "for j, ax in enumerate(axes[0]):\n",
    "    ax.plot(h, VG_mc, 'k', label='original retention / conductivity')\n",
    "\n",
    "    ax.plot(h, soil['mcr'] + sVG_mc_decomp[j], label='estimated ret. / cond. (bare fallow)')\n",
    "    ax.plot(\n",
    "        threshold_h,\n",
    "        np.cumsum(posd[j, :-1]),\n",
    "        'o',\n",
    "        color=colors[0],\n",
    "        label='simulated porosity (bare fallow)',\n",
    "        markerfacecolor='none',\n",
    "        markeredgewidth=1.5,\n",
    "        zorder=5,\n",
    "    )\n",
    "\n",
    "    ax.plot(h, soil['mcr'] + sVG_mc_decomp[j + 3], color=colors[2], label='est. ret. / cond. (manure)')\n",
    "    ax.plot(\n",
    "        threshold_h,\n",
    "        np.cumsum(posd[j + 3, :-1]),\n",
    "        'o',\n",
    "        color=colors[2],\n",
    "        label='simulated porosity (manure)',\n",
    "        markerfacecolor='none',\n",
    "        markeredgewidth=1.5,\n",
    "        zorder=6,\n",
    "    )\n",
    "\n",
    "    ax.grid(alpha=0.25)\n",
    "\n",
    "for j, ax in enumerate(axes[1]):\n",
    "    ax.plot(h_int[:plotlim_h], VG_K[:plotlim_h], 'k', label='original')\n",
    "    ax.plot(h_int[:plotlim_h], sVG_K_decomp[j, :plotlim_h], label='bare')\n",
    "    ax.plot(h_int[:plotlim_h], sVG_K_decomp[j + 3, :plotlim_h], color=colors[2], label='manure')\n",
    "    ax.grid(alpha=0.25)\n",
    "\n",
    "for axo, title in zip(axes[0], posd_rel.index.unique(level='year')):\n",
    "    axo.set_title(title)\n",
    "\n",
    "axes[0, 0].legend(loc='upper center', ncol=3, bbox_to_anchor=(1.6, -0.02))\n",
    "\n",
    "axes[0, 0].invert_xaxis()\n",
    "axes[0, 0].set_ylabel(r'water content $\\theta$ [-]')\n",
    "axes[1, 0].set_ylabel(r'hydr. conductivity $K$ [m/s]')\n",
    "\n",
    "fig.supxlabel('pressure head $h$ [m]', y= .025)\n",
    "\n",
    "plt.subplots_adjust(wspace=0.1, hspace=0.3)\n",
    "\n",
    "if 'xticklabels' in locals():\n",
    "    axes[1,0].set_xticklabels(xticklabels)\n",
    "\n",
    "    plt.savefig('MJB.pdf', bbox_inches=\"tight\", pad_inches=.01)"
   ]
  },
  {
   "cell_type": "code",
   "execution_count": null,
   "metadata": {},
   "outputs": [],
   "source": [
    "# Add minus signs to tick labels (replot after running this cell)\n",
    "xticklabels = axes[1,0].get_xticklabels()\n",
    "\n",
    "for Text in xticklabels:\n",
    "    Text.set_text(Text.get_text().replace('10','\\N{MINUS SIGN}10'))"
   ]
  },
  {
   "cell_type": "code",
   "execution_count": null,
   "metadata": {},
   "outputs": [],
   "source": []
  }
 ],
 "metadata": {
  "kernelspec": {
   "display_name": "soilstruct",
   "language": "python",
   "name": "python3"
  },
  "language_info": {
   "codemirror_mode": {
    "name": "ipython",
    "version": 3
   },
   "file_extension": ".py",
   "mimetype": "text/x-python",
   "name": "python",
   "nbconvert_exporter": "python",
   "pygments_lexer": "ipython3",
   "version": "3.10.14"
  }
 },
 "nbformat": 4,
 "nbformat_minor": 2
}
